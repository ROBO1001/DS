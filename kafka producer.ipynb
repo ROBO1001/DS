{
 "cells": [
  {
   "cell_type": "code",
   "execution_count": 46,
   "id": "40d80cfd-0d90-49b9-97f0-597a96df535e",
   "metadata": {},
   "outputs": [],
   "source": [
    "import pandas as pd\n",
    "from kafka import KafkaProducer\n",
    "from time import sleep\n",
    "from json import dumps\n",
    "import json"
   ]
  },
  {
   "cell_type": "code",
   "execution_count": 47,
   "id": "305d3fc8-1f2e-4721-b457-084b678853d8",
   "metadata": {},
   "outputs": [],
   "source": [
    "producer = KafkaProducer(bootstrap_servers=['3.26.188.3:9092'],\n",
    "                         value_serializer=lambda x: \n",
    "                         dumps(x).encode('utf-8'))"
   ]
  },
  {
   "cell_type": "code",
   "execution_count": 48,
   "id": "f502c10b-3a47-4bed-b399-406a41141603",
   "metadata": {
    "scrolled": true
   },
   "outputs": [
    {
     "data": {
      "text/plain": [
       "<kafka.producer.future.FutureRecordMetadata at 0x27208a13f50>"
      ]
     },
     "execution_count": 48,
     "metadata": {},
     "output_type": "execute_result"
    }
   ],
   "source": [
    "producer.send('demo_test', value={'kamran is ':'here'})"
   ]
  },
  {
   "cell_type": "code",
   "execution_count": 49,
   "id": "5775514d-6938-4ed8-8547-eb89ae92e598",
   "metadata": {},
   "outputs": [],
   "source": [
    "df = pd.read_csv(\"top1kstocks.csv\")"
   ]
  },
  {
   "cell_type": "code",
   "execution_count": 50,
   "id": "d5dfada7-bdbd-4e37-89c5-99b32174f9c1",
   "metadata": {},
   "outputs": [
    {
     "data": {
      "text/html": [
       "<div>\n",
       "<style scoped>\n",
       "    .dataframe tbody tr th:only-of-type {\n",
       "        vertical-align: middle;\n",
       "    }\n",
       "\n",
       "    .dataframe tbody tr th {\n",
       "        vertical-align: top;\n",
       "    }\n",
       "\n",
       "    .dataframe thead th {\n",
       "        text-align: right;\n",
       "    }\n",
       "</style>\n",
       "<table border=\"1\" class=\"dataframe\">\n",
       "  <thead>\n",
       "    <tr style=\"text-align: right;\">\n",
       "      <th></th>\n",
       "      <th>Name\\tCMP\\tP/E\\tMarket Cap\\tDiv Yield %\\tNP Qtr\\tQtr Profit %\\tSales Qtr\\tQtr Sales %\\tROCE %\\tPAT Ann</th>\n",
       "    </tr>\n",
       "  </thead>\n",
       "  <tbody>\n",
       "    <tr>\n",
       "      <th>0</th>\n",
       "      <td>Reliance Industries\\t2961.4\\t28.75\\t2003965.01...</td>\n",
       "    </tr>\n",
       "    <tr>\n",
       "      <th>1</th>\n",
       "      <td>TCS\\t3814.75\\t29.73\\t1380210.04\\t1.45\\t12502\\t...</td>\n",
       "    </tr>\n",
       "    <tr>\n",
       "      <th>2</th>\n",
       "      <td>HDFC Bank\\t1608.75\\t19.07\\t1223559.58\\t1.22\\t1...</td>\n",
       "    </tr>\n",
       "    <tr>\n",
       "      <th>3</th>\n",
       "      <td>Bharti Airtel\\t1428.7\\t71.63\\t853241.05\\t0.27\\...</td>\n",
       "    </tr>\n",
       "    <tr>\n",
       "      <th>4</th>\n",
       "      <td>ICICI Bank\\t1123.05\\t17.89\\t789893.47\\t0.72\\t1...</td>\n",
       "    </tr>\n",
       "  </tbody>\n",
       "</table>\n",
       "</div>"
      ],
      "text/plain": [
       "  Name\\tCMP\\tP/E\\tMarket Cap\\tDiv Yield %\\tNP Qtr\\tQtr Profit %\\tSales Qtr\\tQtr Sales %\\tROCE %\\tPAT Ann\n",
       "0  Reliance Industries\\t2961.4\\t28.75\\t2003965.01...                                                    \n",
       "1  TCS\\t3814.75\\t29.73\\t1380210.04\\t1.45\\t12502\\t...                                                    \n",
       "2  HDFC Bank\\t1608.75\\t19.07\\t1223559.58\\t1.22\\t1...                                                    \n",
       "3  Bharti Airtel\\t1428.7\\t71.63\\t853241.05\\t0.27\\...                                                    \n",
       "4  ICICI Bank\\t1123.05\\t17.89\\t789893.47\\t0.72\\t1...                                                    "
      ]
     },
     "execution_count": 50,
     "metadata": {},
     "output_type": "execute_result"
    }
   ],
   "source": [
    "df.head()"
   ]
  },
  {
   "cell_type": "code",
   "execution_count": null,
   "id": "01851b40-188f-43d2-8d62-85a24f46658e",
   "metadata": {},
   "outputs": [],
   "source": [
    "while True:\n",
    "    dict_stock = df.sample(1).to_dict(orient=\"records\")[0]\n",
    "    producer.send('demo_test', value=dict_stock)\n",
    "    sleep(1)"
   ]
  },
  {
   "cell_type": "code",
   "execution_count": 37,
   "id": "6be01e52-96b7-4482-abfa-f146282fb725",
   "metadata": {},
   "outputs": [],
   "source": [
    "producer.flush()"
   ]
  },
  {
   "cell_type": "code",
   "execution_count": null,
   "id": "11349883-7f0b-47d6-b476-84f7ea814405",
   "metadata": {},
   "outputs": [],
   "source": []
  }
 ],
 "metadata": {
  "kernelspec": {
   "display_name": "Python 3 (ipykernel)",
   "language": "python",
   "name": "python3"
  },
  "language_info": {
   "codemirror_mode": {
    "name": "ipython",
    "version": 3
   },
   "file_extension": ".py",
   "mimetype": "text/x-python",
   "name": "python",
   "nbconvert_exporter": "python",
   "pygments_lexer": "ipython3",
   "version": "3.11.3"
  }
 },
 "nbformat": 4,
 "nbformat_minor": 5
}
